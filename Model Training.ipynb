{
 "cells": [
  {
   "cell_type": "code",
   "execution_count": null,
   "metadata": {},
   "outputs": [],
   "source": [
    "#Fetching Dataset from Roboflow\n",
    "from roboflow import Roboflow\n",
    "rf = Roboflow(api_key=\"y1QKJjEjOsG45e3N9r4m\")\n",
    "project = rf.workspace(\"mark-do\").project(\"toyotachallengef23\")\n",
    "dataset = project.version(10).download(\"yolov8\")\n"
   ]
  },
  {
   "cell_type": "code",
   "execution_count": 1,
   "metadata": {},
   "outputs": [],
   "source": [
    "from ultralytics import YOLO\n",
    "import cv2\n",
    "import torch\n",
    "\n",
    "#Setting inital yolo model for transfer learning\n",
    "torch.cuda.set_device(0)\n",
    "\n",
    "#During Semi-Supervised learning the model must be changed to best.pt weights file outputted by the model\n",
    "model = YOLO(r\"yolov8n.pt\")"
   ]
  },
  {
   "cell_type": "code",
   "execution_count": null,
   "metadata": {},
   "outputs": [],
   "source": [
    "#Training Model\n",
    "results = model.train(data=r\"C:\\Users\\Humperdink2\\Documents\\github\\ToyotaChallengeF23\\ToyotaChallengeF23-10\\data.yaml\", epochs=23,imgsz=640)"
   ]
  },
  {
   "cell_type": "markdown",
   "metadata": {},
   "source": [
    "The following cells are used to generate predictions on each frame in a video, to then be fed back into the model for Semi-Supervised learning."
   ]
  },
  {
   "cell_type": "code",
   "execution_count": null,
   "metadata": {},
   "outputs": [],
   "source": [
    "#Converting video into pictures\n",
    "vidcap = cv2.VideoCapture(r\"C:\\Users\\Humperdink2\\Pictures\\Camera Roll\\WIN_20231029_12_33_40_Pro.mp4\")\n",
    "success,image = vidcap.read()\n",
    "count = 0\n",
    "while success:\n",
    "  cv2.imwrite(f\"C:/Users/Humperdink2/Documents/github/ToyotaChallengeF23/Semi_1/frame{count}.jpg\", image)  # save frame as JPEG file      \n",
    "  success,image = vidcap.read()\n",
    "  print(f'Read a new frame: {count}', success)\n",
    "  count += 1"
   ]
  },
  {
   "cell_type": "code",
   "execution_count": null,
   "metadata": {},
   "outputs": [],
   "source": [
    "#Testing Model Output on Sample Video Feed\n",
    "model(r\"C:\\Users\\Humperdink2\\Documents\\github\\ToyotaChallengeF23\\Semi_1\", save=True, save_txt=True,conf=0.35)"
   ]
  }
 ],
 "metadata": {
  "kernelspec": {
   "display_name": "toyotaf2023",
   "language": "python",
   "name": "python3"
  },
  "language_info": {
   "codemirror_mode": {
    "name": "ipython",
    "version": 3
   },
   "file_extension": ".py",
   "mimetype": "text/x-python",
   "name": "python",
   "nbconvert_exporter": "python",
   "pygments_lexer": "ipython3",
   "version": "3.9.18"
  }
 },
 "nbformat": 4,
 "nbformat_minor": 2
}
